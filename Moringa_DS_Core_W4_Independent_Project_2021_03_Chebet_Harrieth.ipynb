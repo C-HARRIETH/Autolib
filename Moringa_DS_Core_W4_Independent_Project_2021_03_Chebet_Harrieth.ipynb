{
  "nbformat": 4,
  "nbformat_minor": 0,
  "metadata": {
    "colab": {
      "name": "Moringa_DS_Core_W4_Independent_Project_2021_03_Chebet_Harrieth.ipynb",
      "provenance": [],
      "collapsed_sections": [],
      "toc_visible": true,
      "authorship_tag": "ABX9TyMdz1RyN7gIqROeGwx6htTB",
      "include_colab_link": true
    },
    "kernelspec": {
      "name": "python3",
      "display_name": "Python 3"
    },
    "language_info": {
      "name": "python"
    }
  },
  "cells": [
    {
      "cell_type": "markdown",
      "metadata": {
        "id": "view-in-github",
        "colab_type": "text"
      },
      "source": [
        "<a href=\"https://colab.research.google.com/github/C-HARRIETH/Autolib/blob/main/Moringa_DS_Core_W4_Independent_Project_2021_03_Chebet_Harrieth.ipynb\" target=\"_parent\"><img src=\"https://colab.research.google.com/assets/colab-badge.svg\" alt=\"Open In Colab\"/></a>"
      ]
    },
    {
      "cell_type": "markdown",
      "metadata": {
        "id": "H90hwdU8iefd"
      },
      "source": [
        "# **AUTOLIB DATA ANALYSIS**\n"
      ]
    },
    {
      "cell_type": "markdown",
      "metadata": {
        "id": "23qvjJQ3jEcO"
      },
      "source": [
        "### **Importing necessary libraries**"
      ]
    },
    {
      "cell_type": "code",
      "metadata": {
        "id": "4ysv8lJQg9Ue"
      },
      "source": [
        "# importing pandas library\n",
        "import pandas as pd\n",
        "\n",
        "# importing the numpy library\n",
        "import numpy as np\n",
        "\n",
        "# importing matplotlib\n",
        "from matplotlib import pyplot as plt\n",
        "\n",
        "# importing seaborn\n",
        "import seaborn as sns\n",
        "%matplotlib inline"
      ],
      "execution_count": 95,
      "outputs": []
    },
    {
      "cell_type": "markdown",
      "metadata": {
        "id": "J5iqIgpNkLoJ"
      },
      "source": [
        "### **Importing and checking the dataset**"
      ]
    },
    {
      "cell_type": "code",
      "metadata": {
        "colab": {
          "base_uri": "https://localhost:8080/",
          "height": 445
        },
        "id": "R9-Oezk4jcE1",
        "outputId": "b981887f-cf7c-4471-d5fd-79c7290e6f4b"
      },
      "source": [
        "# storing url location \n",
        "url= 'http://bit.ly/autolib_dataset'\n",
        "\n",
        "# reading dataset from url\n",
        "autolib= pd.read_csv(url)\n",
        "\n",
        "autolib.head()"
      ],
      "execution_count": 96,
      "outputs": [
        {
          "output_type": "execute_result",
          "data": {
            "text/html": [
              "<div>\n",
              "<style scoped>\n",
              "    .dataframe tbody tr th:only-of-type {\n",
              "        vertical-align: middle;\n",
              "    }\n",
              "\n",
              "    .dataframe tbody tr th {\n",
              "        vertical-align: top;\n",
              "    }\n",
              "\n",
              "    .dataframe thead th {\n",
              "        text-align: right;\n",
              "    }\n",
              "</style>\n",
              "<table border=\"1\" class=\"dataframe\">\n",
              "  <thead>\n",
              "    <tr style=\"text-align: right;\">\n",
              "      <th></th>\n",
              "      <th>Address</th>\n",
              "      <th>Cars</th>\n",
              "      <th>Bluecar counter</th>\n",
              "      <th>Utilib counter</th>\n",
              "      <th>Utilib 1.4 counter</th>\n",
              "      <th>Charge Slots</th>\n",
              "      <th>Charging Status</th>\n",
              "      <th>City</th>\n",
              "      <th>Displayed comment</th>\n",
              "      <th>ID</th>\n",
              "      <th>Kind</th>\n",
              "      <th>Geo point</th>\n",
              "      <th>Postal code</th>\n",
              "      <th>Public name</th>\n",
              "      <th>Rental status</th>\n",
              "      <th>Scheduled at</th>\n",
              "      <th>Slots</th>\n",
              "      <th>Station type</th>\n",
              "      <th>Status</th>\n",
              "      <th>Subscription status</th>\n",
              "      <th>year</th>\n",
              "      <th>month</th>\n",
              "      <th>day</th>\n",
              "      <th>hour</th>\n",
              "      <th>minute</th>\n",
              "    </tr>\n",
              "  </thead>\n",
              "  <tbody>\n",
              "    <tr>\n",
              "      <th>0</th>\n",
              "      <td>2 Avenue de Suffren</td>\n",
              "      <td>0</td>\n",
              "      <td>0</td>\n",
              "      <td>0</td>\n",
              "      <td>0</td>\n",
              "      <td>0</td>\n",
              "      <td>nonexistent</td>\n",
              "      <td>Paris</td>\n",
              "      <td>NaN</td>\n",
              "      <td>paris-suffren-2</td>\n",
              "      <td>STATION</td>\n",
              "      <td>48.857, 2.2917</td>\n",
              "      <td>75015</td>\n",
              "      <td>Paris/Suffren/2</td>\n",
              "      <td>operational</td>\n",
              "      <td>NaN</td>\n",
              "      <td>2</td>\n",
              "      <td>station</td>\n",
              "      <td>ok</td>\n",
              "      <td>nonexistent</td>\n",
              "      <td>2018</td>\n",
              "      <td>4</td>\n",
              "      <td>8</td>\n",
              "      <td>11</td>\n",
              "      <td>43</td>\n",
              "    </tr>\n",
              "    <tr>\n",
              "      <th>1</th>\n",
              "      <td>145 Rue Raymond Losserand</td>\n",
              "      <td>6</td>\n",
              "      <td>6</td>\n",
              "      <td>0</td>\n",
              "      <td>0</td>\n",
              "      <td>0</td>\n",
              "      <td>operational</td>\n",
              "      <td>Paris</td>\n",
              "      <td>NaN</td>\n",
              "      <td>paris-raymondlosserand-145</td>\n",
              "      <td>STATION</td>\n",
              "      <td>48.83126, 2.313088</td>\n",
              "      <td>75014</td>\n",
              "      <td>Paris/Raymond Losserand/145</td>\n",
              "      <td>operational</td>\n",
              "      <td>NaN</td>\n",
              "      <td>0</td>\n",
              "      <td>station</td>\n",
              "      <td>ok</td>\n",
              "      <td>nonexistent</td>\n",
              "      <td>2018</td>\n",
              "      <td>4</td>\n",
              "      <td>6</td>\n",
              "      <td>7</td>\n",
              "      <td>24</td>\n",
              "    </tr>\n",
              "    <tr>\n",
              "      <th>2</th>\n",
              "      <td>2 Avenue John Fitzgerald Kennedy</td>\n",
              "      <td>3</td>\n",
              "      <td>3</td>\n",
              "      <td>0</td>\n",
              "      <td>2</td>\n",
              "      <td>0</td>\n",
              "      <td>operational</td>\n",
              "      <td>Le Bourget</td>\n",
              "      <td>NaN</td>\n",
              "      <td>lebourget-johnfitzgeraldkennedy-2</td>\n",
              "      <td>STATION</td>\n",
              "      <td>48.938103, 2.4286035</td>\n",
              "      <td>93350</td>\n",
              "      <td>Le Bourget/John Fitzgerald Kennedy/2</td>\n",
              "      <td>operational</td>\n",
              "      <td>NaN</td>\n",
              "      <td>1</td>\n",
              "      <td>station</td>\n",
              "      <td>ok</td>\n",
              "      <td>nonexistent</td>\n",
              "      <td>2018</td>\n",
              "      <td>4</td>\n",
              "      <td>3</td>\n",
              "      <td>20</td>\n",
              "      <td>14</td>\n",
              "    </tr>\n",
              "    <tr>\n",
              "      <th>3</th>\n",
              "      <td>51 Rue EugÃ¨ne OudinÃ©</td>\n",
              "      <td>3</td>\n",
              "      <td>3</td>\n",
              "      <td>1</td>\n",
              "      <td>0</td>\n",
              "      <td>1</td>\n",
              "      <td>operational</td>\n",
              "      <td>Paris</td>\n",
              "      <td>NaN</td>\n",
              "      <td>paris-eugeneoudine-51</td>\n",
              "      <td>STATION</td>\n",
              "      <td>48.8250327, 2.3725162</td>\n",
              "      <td>75013</td>\n",
              "      <td>Paris/EugÃ¨ne OudinÃ©/51</td>\n",
              "      <td>operational</td>\n",
              "      <td>NaN</td>\n",
              "      <td>2</td>\n",
              "      <td>station</td>\n",
              "      <td>ok</td>\n",
              "      <td>nonexistent</td>\n",
              "      <td>2018</td>\n",
              "      <td>4</td>\n",
              "      <td>4</td>\n",
              "      <td>4</td>\n",
              "      <td>37</td>\n",
              "    </tr>\n",
              "    <tr>\n",
              "      <th>4</th>\n",
              "      <td>6 avenue de la Porte de Champerret</td>\n",
              "      <td>3</td>\n",
              "      <td>3</td>\n",
              "      <td>0</td>\n",
              "      <td>0</td>\n",
              "      <td>0</td>\n",
              "      <td>nonexistent</td>\n",
              "      <td>Paris</td>\n",
              "      <td>NaN</td>\n",
              "      <td>paris-portedechamperret-6</td>\n",
              "      <td>PARKING</td>\n",
              "      <td>48.8862632, 2.2874511</td>\n",
              "      <td>75017</td>\n",
              "      <td>Paris/Porte de Champerret/6</td>\n",
              "      <td>operational</td>\n",
              "      <td>NaN</td>\n",
              "      <td>3</td>\n",
              "      <td>station</td>\n",
              "      <td>ok</td>\n",
              "      <td>nonexistent</td>\n",
              "      <td>2018</td>\n",
              "      <td>4</td>\n",
              "      <td>8</td>\n",
              "      <td>17</td>\n",
              "      <td>23</td>\n",
              "    </tr>\n",
              "  </tbody>\n",
              "</table>\n",
              "</div>"
            ],
            "text/plain": [
              "                              Address  Cars  Bluecar counter  ...  day  hour  minute\n",
              "0                 2 Avenue de Suffren     0                0  ...    8    11      43\n",
              "1           145 Rue Raymond Losserand     6                6  ...    6     7      24\n",
              "2    2 Avenue John Fitzgerald Kennedy     3                3  ...    3    20      14\n",
              "3              51 Rue EugÃ¨ne OudinÃ©     3                3  ...    4     4      37\n",
              "4  6 avenue de la Porte de Champerret     3                3  ...    8    17      23\n",
              "\n",
              "[5 rows x 25 columns]"
            ]
          },
          "metadata": {
            "tags": []
          },
          "execution_count": 96
        }
      ]
    },
    {
      "cell_type": "code",
      "metadata": {
        "colab": {
          "base_uri": "https://localhost:8080/"
        },
        "id": "B87m_5mAkUUI",
        "outputId": "81a3ec6f-14d1-4f14-ef13-1ac29c35792a"
      },
      "source": [
        "# size of dataset\n",
        "\n",
        "autolib.shape"
      ],
      "execution_count": 97,
      "outputs": [
        {
          "output_type": "execute_result",
          "data": {
            "text/plain": [
              "(5000, 25)"
            ]
          },
          "metadata": {
            "tags": []
          },
          "execution_count": 97
        }
      ]
    },
    {
      "cell_type": "code",
      "metadata": {
        "colab": {
          "base_uri": "https://localhost:8080/"
        },
        "id": "b9bKpxBOlf-x",
        "outputId": "6c50a526-a45f-4ce5-9f0d-895266ced60a"
      },
      "source": [
        "# datatypes\n",
        "\n",
        "autolib.dtypes"
      ],
      "execution_count": 98,
      "outputs": [
        {
          "output_type": "execute_result",
          "data": {
            "text/plain": [
              "Address                object\n",
              "Cars                    int64\n",
              "Bluecar counter         int64\n",
              "Utilib counter          int64\n",
              "Utilib 1.4 counter      int64\n",
              "Charge Slots            int64\n",
              "Charging Status        object\n",
              "City                   object\n",
              "Displayed comment      object\n",
              "ID                     object\n",
              "Kind                   object\n",
              "Geo point              object\n",
              "Postal code             int64\n",
              "Public name            object\n",
              "Rental status          object\n",
              "Scheduled at           object\n",
              "Slots                   int64\n",
              "Station type           object\n",
              "Status                 object\n",
              "Subscription status    object\n",
              "year                    int64\n",
              "month                   int64\n",
              "day                     int64\n",
              "hour                    int64\n",
              "minute                  int64\n",
              "dtype: object"
            ]
          },
          "metadata": {
            "tags": []
          },
          "execution_count": 98
        }
      ]
    },
    {
      "cell_type": "markdown",
      "metadata": {
        "id": "g69z9E7nloDL"
      },
      "source": [
        "### **Cleaning dataset**"
      ]
    },
    {
      "cell_type": "code",
      "metadata": {
        "colab": {
          "base_uri": "https://localhost:8080/"
        },
        "id": "nL1Cn1Pqlqvb",
        "outputId": "186f5fd5-0a29-46c2-9086-c27477a3adb7"
      },
      "source": [
        "# Null Values\n",
        "autolib.isnull().values.any()"
      ],
      "execution_count": 99,
      "outputs": [
        {
          "output_type": "execute_result",
          "data": {
            "text/plain": [
              "True"
            ]
          },
          "metadata": {
            "tags": []
          },
          "execution_count": 99
        }
      ]
    },
    {
      "cell_type": "code",
      "metadata": {
        "colab": {
          "base_uri": "https://localhost:8080/"
        },
        "id": "jJSgN8tdnL-H",
        "outputId": "dab9c4ce-3ffb-451d-e4ff-8baaebfe91b5"
      },
      "source": [
        "autolib.isnull().sum()"
      ],
      "execution_count": 100,
      "outputs": [
        {
          "output_type": "execute_result",
          "data": {
            "text/plain": [
              "Address                   0\n",
              "Cars                      0\n",
              "Bluecar counter           0\n",
              "Utilib counter            0\n",
              "Utilib 1.4 counter        0\n",
              "Charge Slots              0\n",
              "Charging Status           0\n",
              "City                      0\n",
              "Displayed comment      4889\n",
              "ID                        0\n",
              "Kind                      0\n",
              "Geo point                 0\n",
              "Postal code               0\n",
              "Public name               0\n",
              "Rental status             0\n",
              "Scheduled at           4953\n",
              "Slots                     0\n",
              "Station type              0\n",
              "Status                    0\n",
              "Subscription status       0\n",
              "year                      0\n",
              "month                     0\n",
              "day                       0\n",
              "hour                      0\n",
              "minute                    0\n",
              "dtype: int64"
            ]
          },
          "metadata": {
            "tags": []
          },
          "execution_count": 100
        }
      ]
    },
    {
      "cell_type": "code",
      "metadata": {
        "id": "IYCg6oAvnXm-"
      },
      "source": [
        "# Dropping columns having more than 95% null values\n",
        "\n",
        "autolib.drop(['Displayed comment', 'Scheduled at'], axis= 1, inplace=True)"
      ],
      "execution_count": 101,
      "outputs": []
    },
    {
      "cell_type": "code",
      "metadata": {
        "colab": {
          "base_uri": "https://localhost:8080/"
        },
        "id": "g6Y22KOOpBYR",
        "outputId": "d9a29747-303d-4876-ed64-e80bf3595898"
      },
      "source": [
        "# Duplicate values\n",
        "\n",
        "autolib.duplicated().values.any()"
      ],
      "execution_count": 102,
      "outputs": [
        {
          "output_type": "execute_result",
          "data": {
            "text/plain": [
              "False"
            ]
          },
          "metadata": {
            "tags": []
          },
          "execution_count": 102
        }
      ]
    },
    {
      "cell_type": "code",
      "metadata": {
        "id": "Ah3M_y-UvNNi"
      },
      "source": [
        "# Converting dates and times into one column\n",
        "\n",
        "autolib['Datetime']= pd.to_datetime(autolib[['year', 'month','day', 'hour', 'minute']])\n",
        "\n",
        "# Sorting the dataframe by the datetime column.\n",
        "autolib.sort_values(by=['Datetime'], axis= 0, inplace= True)"
      ],
      "execution_count": 103,
      "outputs": []
    },
    {
      "cell_type": "code",
      "metadata": {
        "colab": {
          "base_uri": "https://localhost:8080/",
          "height": 1000
        },
        "id": "sJNVEN6StyUI",
        "outputId": "48aca0b4-6a58-4c92-8d50-d1e36ed889c0"
      },
      "source": [
        "# Outlier detection using box plots\n",
        "\n",
        "col_names = ['year','month', 'hour', 'minute', 'Charge Slots']\n",
        "\n",
        "fig, ax = plt.subplots(len(col_names), figsize=(8, 40))\n",
        "\n",
        "for i, col_val in enumerate(col_names):\n",
        "        \n",
        "    sns.boxplot(y=autolib[col_val], ax=ax[i], color='purple')\n",
        "    ax[i].set_title('Box plot - '+col_val, fontsize=20)\n",
        "    ax[i].set_xlabel(col_val, fontsize=18)\n",
        "    \n",
        "plt.show()"
      ],
      "execution_count": 104,
      "outputs": [
        {
          "output_type": "display_data",
          "data": {
            "image/png": "[encoded data removed]",
            "text/plain": [
              "<Figure size 576x2880 with 5 Axes>"
            ]
          },
          "metadata": {
            "tags": [],
            "needs_background": "light"
          }
        }
      ]
    },
    {
      "cell_type": "markdown",
      "metadata": {
        "id": "HxpZ4V3ezooF"
      },
      "source": [
        "The data does not seem to be having outliers. Charge slots has two unique values explaining the shape of the boxplot. The data is from one year, 2018 and the fourth month of the year, April. It also covers 9 days. Nothing is outside those limits, hence no outliers, just a few extreme values."
      ]
    },
    {
      "cell_type": "markdown",
      "metadata": {
        "id": "MADIOm3r0AOa"
      },
      "source": [
        "### **Univariate and Bivariate Analysis**"
      ]
    },
    {
      "cell_type": "code",
      "metadata": {
        "colab": {
          "base_uri": "https://localhost:8080/",
          "height": 334
        },
        "id": "X61A9JSgsi-U",
        "outputId": "70499b75-3f7c-41f7-ee96-6fc49045c405"
      },
      "source": [
        "autolib.describe()"
      ],
      "execution_count": 105,
      "outputs": [
        {
          "output_type": "execute_result",
          "data": {
            "text/html": [
              "<div>\n",
              "<style scoped>\n",
              "    .dataframe tbody tr th:only-of-type {\n",
              "        vertical-align: middle;\n",
              "    }\n",
              "\n",
              "    .dataframe tbody tr th {\n",
              "        vertical-align: top;\n",
              "    }\n",
              "\n",
              "    .dataframe thead th {\n",
              "        text-align: right;\n",
              "    }\n",
              "</style>\n",
              "<table border=\"1\" class=\"dataframe\">\n",
              "  <thead>\n",
              "    <tr style=\"text-align: right;\">\n",
              "      <th></th>\n",
              "      <th>Cars</th>\n",
              "      <th>Bluecar counter</th>\n",
              "      <th>Utilib counter</th>\n",
              "      <th>Utilib 1.4 counter</th>\n",
              "      <th>Charge Slots</th>\n",
              "      <th>Postal code</th>\n",
              "      <th>Slots</th>\n",
              "      <th>year</th>\n",
              "      <th>month</th>\n",
              "      <th>day</th>\n",
              "      <th>hour</th>\n",
              "      <th>minute</th>\n",
              "    </tr>\n",
              "  </thead>\n",
              "  <tbody>\n",
              "    <tr>\n",
              "      <th>count</th>\n",
              "      <td>5000.000000</td>\n",
              "      <td>5000.000000</td>\n",
              "      <td>5000.000000</td>\n",
              "      <td>5000.000000</td>\n",
              "      <td>5000.000000</td>\n",
              "      <td>5000.000000</td>\n",
              "      <td>5000.000000</td>\n",
              "      <td>5000.0</td>\n",
              "      <td>5000.0</td>\n",
              "      <td>5000.000000</td>\n",
              "      <td>5000.000000</td>\n",
              "      <td>5000.000000</td>\n",
              "    </tr>\n",
              "    <tr>\n",
              "      <th>mean</th>\n",
              "      <td>2.333600</td>\n",
              "      <td>2.333600</td>\n",
              "      <td>0.059600</td>\n",
              "      <td>0.123000</td>\n",
              "      <td>0.253400</td>\n",
              "      <td>82634.878400</td>\n",
              "      <td>1.932400</td>\n",
              "      <td>2018.0</td>\n",
              "      <td>4.0</td>\n",
              "      <td>4.941600</td>\n",
              "      <td>11.509200</td>\n",
              "      <td>29.270000</td>\n",
              "    </tr>\n",
              "    <tr>\n",
              "      <th>std</th>\n",
              "      <td>2.035274</td>\n",
              "      <td>2.035274</td>\n",
              "      <td>0.246698</td>\n",
              "      <td>0.356506</td>\n",
              "      <td>0.546304</td>\n",
              "      <td>8835.865721</td>\n",
              "      <td>1.905402</td>\n",
              "      <td>0.0</td>\n",
              "      <td>0.0</td>\n",
              "      <td>2.597063</td>\n",
              "      <td>6.893549</td>\n",
              "      <td>17.231741</td>\n",
              "    </tr>\n",
              "    <tr>\n",
              "      <th>min</th>\n",
              "      <td>0.000000</td>\n",
              "      <td>0.000000</td>\n",
              "      <td>0.000000</td>\n",
              "      <td>0.000000</td>\n",
              "      <td>0.000000</td>\n",
              "      <td>75001.000000</td>\n",
              "      <td>0.000000</td>\n",
              "      <td>2018.0</td>\n",
              "      <td>4.0</td>\n",
              "      <td>1.000000</td>\n",
              "      <td>0.000000</td>\n",
              "      <td>0.000000</td>\n",
              "    </tr>\n",
              "    <tr>\n",
              "      <th>25%</th>\n",
              "      <td>0.000000</td>\n",
              "      <td>0.000000</td>\n",
              "      <td>0.000000</td>\n",
              "      <td>0.000000</td>\n",
              "      <td>0.000000</td>\n",
              "      <td>75012.000000</td>\n",
              "      <td>0.000000</td>\n",
              "      <td>2018.0</td>\n",
              "      <td>4.0</td>\n",
              "      <td>3.000000</td>\n",
              "      <td>6.000000</td>\n",
              "      <td>14.000000</td>\n",
              "    </tr>\n",
              "    <tr>\n",
              "      <th>50%</th>\n",
              "      <td>2.000000</td>\n",
              "      <td>2.000000</td>\n",
              "      <td>0.000000</td>\n",
              "      <td>0.000000</td>\n",
              "      <td>0.000000</td>\n",
              "      <td>75019.000000</td>\n",
              "      <td>1.000000</td>\n",
              "      <td>2018.0</td>\n",
              "      <td>4.0</td>\n",
              "      <td>5.000000</td>\n",
              "      <td>11.000000</td>\n",
              "      <td>29.000000</td>\n",
              "    </tr>\n",
              "    <tr>\n",
              "      <th>75%</th>\n",
              "      <td>4.000000</td>\n",
              "      <td>4.000000</td>\n",
              "      <td>0.000000</td>\n",
              "      <td>0.000000</td>\n",
              "      <td>0.000000</td>\n",
              "      <td>92320.000000</td>\n",
              "      <td>3.000000</td>\n",
              "      <td>2018.0</td>\n",
              "      <td>4.0</td>\n",
              "      <td>7.000000</td>\n",
              "      <td>18.000000</td>\n",
              "      <td>44.000000</td>\n",
              "    </tr>\n",
              "    <tr>\n",
              "      <th>max</th>\n",
              "      <td>7.000000</td>\n",
              "      <td>7.000000</td>\n",
              "      <td>2.000000</td>\n",
              "      <td>3.000000</td>\n",
              "      <td>2.000000</td>\n",
              "      <td>95880.000000</td>\n",
              "      <td>7.000000</td>\n",
              "      <td>2018.0</td>\n",
              "      <td>4.0</td>\n",
              "      <td>9.000000</td>\n",
              "      <td>23.000000</td>\n",
              "      <td>59.000000</td>\n",
              "    </tr>\n",
              "  </tbody>\n",
              "</table>\n",
              "</div>"
            ],
            "text/plain": [
              "              Cars  Bluecar counter  ...         hour       minute\n",
              "count  5000.000000      5000.000000  ...  5000.000000  5000.000000\n",
              "mean      2.333600         2.333600  ...    11.509200    29.270000\n",
              "std       2.035274         2.035274  ...     6.893549    17.231741\n",
              "min       0.000000         0.000000  ...     0.000000     0.000000\n",
              "25%       0.000000         0.000000  ...     6.000000    14.000000\n",
              "50%       2.000000         2.000000  ...    11.000000    29.000000\n",
              "75%       4.000000         4.000000  ...    18.000000    44.000000\n",
              "max       7.000000         7.000000  ...    23.000000    59.000000\n",
              "\n",
              "[8 rows x 12 columns]"
            ]
          },
          "metadata": {
            "tags": []
          },
          "execution_count": 105
        }
      ]
    },
    {
      "cell_type": "code",
      "metadata": {
        "colab": {
          "base_uri": "https://localhost:8080/"
        },
        "id": "y-AnehexzcLV",
        "outputId": "7f75758e-535b-46cf-fd70-b73ecafb501e"
      },
      "source": [
        "autolib['Bluecar counter'].mode()"
      ],
      "execution_count": 106,
      "outputs": [
        {
          "output_type": "execute_result",
          "data": {
            "text/plain": [
              "0    0\n",
              "dtype: int64"
            ]
          },
          "metadata": {
            "tags": []
          },
          "execution_count": 106
        }
      ]
    },
    {
      "cell_type": "code",
      "metadata": {
        "colab": {
          "base_uri": "https://localhost:8080/"
        },
        "id": "4WeZO7vS0nTz",
        "outputId": "f8a61818-6ea2-4e9a-d1cb-622cf8a74e79"
      },
      "source": [
        "autolib['Utilib counter'].mode()"
      ],
      "execution_count": 107,
      "outputs": [
        {
          "output_type": "execute_result",
          "data": {
            "text/plain": [
              "0    0\n",
              "dtype: int64"
            ]
          },
          "metadata": {
            "tags": []
          },
          "execution_count": 107
        }
      ]
    },
    {
      "cell_type": "code",
      "metadata": {
        "colab": {
          "base_uri": "https://localhost:8080/"
        },
        "id": "Y7XUy__T0zFT",
        "outputId": "ee57d64b-4974-4ac4-d260-5e702871d671"
      },
      "source": [
        "autolib['Utilib 1.4 counter'].mode()"
      ],
      "execution_count": 108,
      "outputs": [
        {
          "output_type": "execute_result",
          "data": {
            "text/plain": [
              "0    0\n",
              "dtype: int64"
            ]
          },
          "metadata": {
            "tags": []
          },
          "execution_count": 108
        }
      ]
    },
    {
      "cell_type": "markdown",
      "metadata": {
        "id": "Gg9-B1C44IGH"
      },
      "source": [
        "\n",
        "The most appearing number of electric cars in Paris at a particular station is 0. This could mean that electric cars are oftenly used hence their absence at the stations."
      ]
    },
    {
      "cell_type": "code",
      "metadata": {
        "colab": {
          "base_uri": "https://localhost:8080/",
          "height": 532
        },
        "id": "YgJahAXi83bC",
        "outputId": "ee03fe7c-061d-4ec7-f0be-abe6f2b3519a"
      },
      "source": [
        "# Distribution of bluecars\n",
        "\n",
        "def bar(counter, xlabel): \n",
        "\n",
        "  sns.set_style('whitegrid')\n",
        "  ax= plt.subplots(figsize= (10, 8))\n",
        "  ax= counter.value_counts().plot.bar(color= 'purple')\n",
        "  ax.set_ylabel('Frequency', fontdict={'size': 18})\n",
        "  ax.set_xlabel(f\"{xlabel}\", fontsize= 18)\n",
        "  plt.xticks(rotation= 45, fontsize= 14)\n",
        "  ax.set_title(f\"Distribution by {xlabel}. \" , fontsize= 20)\n",
        "  plt.show()\n",
        "\n",
        "bar(autolib['Utilib counter'], \"Utilib Counter\")"
      ],
      "execution_count": 109,
      "outputs": [
        {
          "output_type": "display_data",
          "data": {
            "image/png": "[encoded data removed]",
            "text/plain": [
              "<Figure size 720x576 with 1 Axes>"
            ]
          },
          "metadata": {
            "tags": []
          }
        }
      ]
    },
    {
      "cell_type": "markdown",
      "metadata": {
        "id": "QTQn31bS_KpM"
      },
      "source": [
        "There are very few Utilib Counters. Almost accounting for at most 5% "
      ]
    },
    {
      "cell_type": "code",
      "metadata": {
        "colab": {
          "base_uri": "https://localhost:8080/",
          "height": 532
        },
        "id": "LE3W5T2V90Pm",
        "outputId": "a7e28e26-60ba-4566-ee67-1179a2549b56"
      },
      "source": [
        "bar(autolib['Bluecar counter'], \"Bluecar Counter\")"
      ],
      "execution_count": 110,
      "outputs": [
        {
          "output_type": "display_data",
          "data": {
            "image/png": "[encoded data removed]",
            "text/plain": [
              "<Figure size 720x576 with 1 Axes>"
            ]
          },
          "metadata": {
            "tags": []
          }
        }
      ]
    },
    {
      "cell_type": "markdown",
      "metadata": {
        "id": "WIXL987g_gQR"
      },
      "source": [
        "Bluecars have a fair distribution between 1 and 6. Having more than 6 bluecars is very rare. "
      ]
    },
    {
      "cell_type": "code",
      "metadata": {
        "colab": {
          "base_uri": "https://localhost:8080/",
          "height": 532
        },
        "id": "GkOtAXnW-9mn",
        "outputId": "2879f83a-6218-4784-b0f2-b8ff115371e1"
      },
      "source": [
        "bar(autolib['Utilib 1.4 counter'], \"Utilib 1.4 Counter\")"
      ],
      "execution_count": 111,
      "outputs": [
        {
          "output_type": "display_data",
          "data": {
            "image/png": "[encoded data removed]",
            "text/plain": [
              "<Figure size 720x576 with 1 Axes>"
            ]
          },
          "metadata": {
            "tags": []
          }
        }
      ]
    },
    {
      "cell_type": "markdown",
      "metadata": {
        "id": "hWHeSeQSAk85"
      },
      "source": [
        "Utilib 1.4 are also very few. "
      ]
    },
    {
      "cell_type": "code",
      "metadata": {
        "colab": {
          "base_uri": "https://localhost:8080/",
          "height": 266
        },
        "id": "EU8UZ92ZBUpz",
        "outputId": "484f8b48-bdbc-43fc-96e7-041285717e62"
      },
      "source": [
        "# Distribution between status \n",
        "\n",
        "autolib['Status'].value_counts().plot(kind='pie', autopct='%.2f', colors= ['purple', 'pink', 'blue']  )\n",
        "\n",
        "plt.title('Pie Chart of Status Distribution', fontsize=16)\n",
        "\n",
        "plt.show()"
      ],
      "execution_count": 112,
      "outputs": [
        {
          "output_type": "display_data",
          "data": {
            "image/png": "[encoded data removed]",
            "text/plain": [
              "<Figure size 432x288 with 1 Axes>"
            ]
          },
          "metadata": {
            "tags": []
          }
        }
      ]
    },
    {
      "cell_type": "markdown",
      "metadata": {
        "id": "I5PZXsSIDT0d"
      },
      "source": [
        "Shows that a station does not have to have cars in order to have resources."
      ]
    },
    {
      "cell_type": "code",
      "metadata": {
        "colab": {
          "base_uri": "https://localhost:8080/",
          "height": 864
        },
        "id": "-D4S5Tr9_GWv",
        "outputId": "77ed644d-3a61-4651-ff0d-9eee2b306524"
      },
      "source": [
        "ulib4= autolib['Utilib 1.4 counter'] == 0\n",
        "utilib= autolib['Utilib counter'] == 0\n",
        "bluecar= autolib['Bluecar counter'] == 0\n",
        "car= autolib['Cars'] == 0\n",
        "\n",
        "autolib[ulib4 & utilib & bluecar & car]"
      ],
      "execution_count": 113,
      "outputs": [
        {
          "output_type": "execute_result",
          "data": {
            "text/html": [
              "<div>\n",
              "<style scoped>\n",
              "    .dataframe tbody tr th:only-of-type {\n",
              "        vertical-align: middle;\n",
              "    }\n",
              "\n",
              "    .dataframe tbody tr th {\n",
              "        vertical-align: top;\n",
              "    }\n",
              "\n",
              "    .dataframe thead th {\n",
              "        text-align: right;\n",
              "    }\n",
              "</style>\n",
              "<table border=\"1\" class=\"dataframe\">\n",
              "  <thead>\n",
              "    <tr style=\"text-align: right;\">\n",
              "      <th></th>\n",
              "      <th>Address</th>\n",
              "      <th>Cars</th>\n",
              "      <th>Bluecar counter</th>\n",
              "      <th>Utilib counter</th>\n",
              "      <th>Utilib 1.4 counter</th>\n",
              "      <th>Charge Slots</th>\n",
              "      <th>Charging Status</th>\n",
              "      <th>City</th>\n",
              "      <th>ID</th>\n",
              "      <th>Kind</th>\n",
              "      <th>Geo point</th>\n",
              "      <th>Postal code</th>\n",
              "      <th>Public name</th>\n",
              "      <th>Rental status</th>\n",
              "      <th>Slots</th>\n",
              "      <th>Station type</th>\n",
              "      <th>Status</th>\n",
              "      <th>Subscription status</th>\n",
              "      <th>year</th>\n",
              "      <th>month</th>\n",
              "      <th>day</th>\n",
              "      <th>hour</th>\n",
              "      <th>minute</th>\n",
              "      <th>Datetime</th>\n",
              "    </tr>\n",
              "  </thead>\n",
              "  <tbody>\n",
              "    <tr>\n",
              "      <th>1046</th>\n",
              "      <td>112 Rue Monge BÃ¢timent Lieu-dit</td>\n",
              "      <td>0</td>\n",
              "      <td>0</td>\n",
              "      <td>0</td>\n",
              "      <td>0</td>\n",
              "      <td>0</td>\n",
              "      <td>nonexistent</td>\n",
              "      <td>Paris</td>\n",
              "      <td>paris-monge-112</td>\n",
              "      <td>STATION</td>\n",
              "      <td>48.8392739, 2.3507414</td>\n",
              "      <td>75005</td>\n",
              "      <td>Paris/Monge/112</td>\n",
              "      <td>operational</td>\n",
              "      <td>4</td>\n",
              "      <td>station</td>\n",
              "      <td>ok</td>\n",
              "      <td>nonexistent</td>\n",
              "      <td>2018</td>\n",
              "      <td>4</td>\n",
              "      <td>1</td>\n",
              "      <td>0</td>\n",
              "      <td>0</td>\n",
              "      <td>2018-04-01 00:00:00</td>\n",
              "    </tr>\n",
              "    <tr>\n",
              "      <th>1107</th>\n",
              "      <td>19 place de la Madeleine</td>\n",
              "      <td>0</td>\n",
              "      <td>0</td>\n",
              "      <td>0</td>\n",
              "      <td>0</td>\n",
              "      <td>0</td>\n",
              "      <td>nonexistent</td>\n",
              "      <td>Paris</td>\n",
              "      <td>paris-madeleinetronchet-parking</td>\n",
              "      <td>PARKING</td>\n",
              "      <td>48.87086, 2.32441</td>\n",
              "      <td>75008</td>\n",
              "      <td>Paris/Madeleine Tronchet/Parking</td>\n",
              "      <td>operational</td>\n",
              "      <td>6</td>\n",
              "      <td>station</td>\n",
              "      <td>ok</td>\n",
              "      <td>nonexistent</td>\n",
              "      <td>2018</td>\n",
              "      <td>4</td>\n",
              "      <td>1</td>\n",
              "      <td>0</td>\n",
              "      <td>2</td>\n",
              "      <td>2018-04-01 00:02:00</td>\n",
              "    </tr>\n",
              "    <tr>\n",
              "      <th>2874</th>\n",
              "      <td>44 rue SÃ©bastien Mercier</td>\n",
              "      <td>0</td>\n",
              "      <td>0</td>\n",
              "      <td>0</td>\n",
              "      <td>0</td>\n",
              "      <td>0</td>\n",
              "      <td>nonexistent</td>\n",
              "      <td>Paris</td>\n",
              "      <td>paris-sebastienmercier-44</td>\n",
              "      <td>STATION</td>\n",
              "      <td>48.8439105, 2.2796928</td>\n",
              "      <td>75015</td>\n",
              "      <td>Paris/SÃ©bastien Mercier/44</td>\n",
              "      <td>operational</td>\n",
              "      <td>4</td>\n",
              "      <td>station</td>\n",
              "      <td>ok</td>\n",
              "      <td>nonexistent</td>\n",
              "      <td>2018</td>\n",
              "      <td>4</td>\n",
              "      <td>1</td>\n",
              "      <td>0</td>\n",
              "      <td>2</td>\n",
              "      <td>2018-04-01 00:02:00</td>\n",
              "    </tr>\n",
              "    <tr>\n",
              "      <th>4453</th>\n",
              "      <td>2 rue Neuve Saint-Pierre</td>\n",
              "      <td>0</td>\n",
              "      <td>0</td>\n",
              "      <td>0</td>\n",
              "      <td>0</td>\n",
              "      <td>1</td>\n",
              "      <td>operational</td>\n",
              "      <td>Paris</td>\n",
              "      <td>paris-neuvesaintpierre-2</td>\n",
              "      <td>STATION</td>\n",
              "      <td>48.853574, 2.363958</td>\n",
              "      <td>75004</td>\n",
              "      <td>Paris/Neuve Saint-Pierre/2</td>\n",
              "      <td>operational</td>\n",
              "      <td>4</td>\n",
              "      <td>station</td>\n",
              "      <td>ok</td>\n",
              "      <td>nonexistent</td>\n",
              "      <td>2018</td>\n",
              "      <td>4</td>\n",
              "      <td>1</td>\n",
              "      <td>0</td>\n",
              "      <td>4</td>\n",
              "      <td>2018-04-01 00:04:00</td>\n",
              "    </tr>\n",
              "    <tr>\n",
              "      <th>2497</th>\n",
              "      <td>53 rue Henri PoincarÃ©</td>\n",
              "      <td>0</td>\n",
              "      <td>0</td>\n",
              "      <td>0</td>\n",
              "      <td>0</td>\n",
              "      <td>0</td>\n",
              "      <td>nonexistent</td>\n",
              "      <td>AsniÃ¨res-sur-Seine</td>\n",
              "      <td>asnieressurseine-henripoincare-53</td>\n",
              "      <td>STATION</td>\n",
              "      <td>48.93068, 2.281273</td>\n",
              "      <td>92600</td>\n",
              "      <td>AsniÃ¨res-sur-Seine/Henri PoincarÃ©/53</td>\n",
              "      <td>broken</td>\n",
              "      <td>0</td>\n",
              "      <td>station</td>\n",
              "      <td>closed</td>\n",
              "      <td>nonexistent</td>\n",
              "      <td>2018</td>\n",
              "      <td>4</td>\n",
              "      <td>1</td>\n",
              "      <td>0</td>\n",
              "      <td>32</td>\n",
              "      <td>2018-04-01 00:32:00</td>\n",
              "    </tr>\n",
              "    <tr>\n",
              "      <th>...</th>\n",
              "      <td>...</td>\n",
              "      <td>...</td>\n",
              "      <td>...</td>\n",
              "      <td>...</td>\n",
              "      <td>...</td>\n",
              "      <td>...</td>\n",
              "      <td>...</td>\n",
              "      <td>...</td>\n",
              "      <td>...</td>\n",
              "      <td>...</td>\n",
              "      <td>...</td>\n",
              "      <td>...</td>\n",
              "      <td>...</td>\n",
              "      <td>...</td>\n",
              "      <td>...</td>\n",
              "      <td>...</td>\n",
              "      <td>...</td>\n",
              "      <td>...</td>\n",
              "      <td>...</td>\n",
              "      <td>...</td>\n",
              "      <td>...</td>\n",
              "      <td>...</td>\n",
              "      <td>...</td>\n",
              "      <td>...</td>\n",
              "    </tr>\n",
              "    <tr>\n",
              "      <th>4956</th>\n",
              "      <td>3 rue de Vaugirard</td>\n",
              "      <td>0</td>\n",
              "      <td>0</td>\n",
              "      <td>0</td>\n",
              "      <td>0</td>\n",
              "      <td>1</td>\n",
              "      <td>operational</td>\n",
              "      <td>Paris</td>\n",
              "      <td>paris-vaugirard-3</td>\n",
              "      <td>STATION</td>\n",
              "      <td>48.84893, 2.340624</td>\n",
              "      <td>75006</td>\n",
              "      <td>Paris/Vaugirard/3</td>\n",
              "      <td>operational</td>\n",
              "      <td>5</td>\n",
              "      <td>station</td>\n",
              "      <td>ok</td>\n",
              "      <td>nonexistent</td>\n",
              "      <td>2018</td>\n",
              "      <td>4</td>\n",
              "      <td>9</td>\n",
              "      <td>23</td>\n",
              "      <td>32</td>\n",
              "      <td>2018-04-09 23:32:00</td>\n",
              "    </tr>\n",
              "    <tr>\n",
              "      <th>3414</th>\n",
              "      <td>37 rue Leblanc</td>\n",
              "      <td>0</td>\n",
              "      <td>0</td>\n",
              "      <td>0</td>\n",
              "      <td>0</td>\n",
              "      <td>0</td>\n",
              "      <td>nonexistent</td>\n",
              "      <td>Paris</td>\n",
              "      <td>paris-citroencevennes-parking</td>\n",
              "      <td>PARKING</td>\n",
              "      <td>48.83874, 2.27641</td>\n",
              "      <td>75015</td>\n",
              "      <td>Paris/CitroÃ«n CÃ©vennes/Parking</td>\n",
              "      <td>broken</td>\n",
              "      <td>0</td>\n",
              "      <td>station</td>\n",
              "      <td>closed</td>\n",
              "      <td>nonexistent</td>\n",
              "      <td>2018</td>\n",
              "      <td>4</td>\n",
              "      <td>9</td>\n",
              "      <td>23</td>\n",
              "      <td>41</td>\n",
              "      <td>2018-04-09 23:41:00</td>\n",
              "    </tr>\n",
              "    <tr>\n",
              "      <th>2164</th>\n",
              "      <td>11 rue de vincennes</td>\n",
              "      <td>0</td>\n",
              "      <td>0</td>\n",
              "      <td>0</td>\n",
              "      <td>0</td>\n",
              "      <td>0</td>\n",
              "      <td>nonexistent</td>\n",
              "      <td>Montreuil</td>\n",
              "      <td>montreuil-vincennes-11</td>\n",
              "      <td>STATION</td>\n",
              "      <td>48.8567808, 2.4378954</td>\n",
              "      <td>93100</td>\n",
              "      <td>Montreuil/Vincennes/11</td>\n",
              "      <td>operational</td>\n",
              "      <td>7</td>\n",
              "      <td>station</td>\n",
              "      <td>ok</td>\n",
              "      <td>nonexistent</td>\n",
              "      <td>2018</td>\n",
              "      <td>4</td>\n",
              "      <td>9</td>\n",
              "      <td>23</td>\n",
              "      <td>41</td>\n",
              "      <td>2018-04-09 23:41:00</td>\n",
              "    </tr>\n",
              "    <tr>\n",
              "      <th>3201</th>\n",
              "      <td>21 bis rue Notre-Dame des Victoires</td>\n",
              "      <td>0</td>\n",
              "      <td>0</td>\n",
              "      <td>0</td>\n",
              "      <td>0</td>\n",
              "      <td>0</td>\n",
              "      <td>nonexistent</td>\n",
              "      <td>Paris</td>\n",
              "      <td>paris-notredamedesvictoires-21</td>\n",
              "      <td>STATION</td>\n",
              "      <td>48.8696994, 2.3423247</td>\n",
              "      <td>75002</td>\n",
              "      <td>Paris/Notre-Dame des Victoires/21</td>\n",
              "      <td>operational</td>\n",
              "      <td>4</td>\n",
              "      <td>station</td>\n",
              "      <td>ok</td>\n",
              "      <td>nonexistent</td>\n",
              "      <td>2018</td>\n",
              "      <td>4</td>\n",
              "      <td>9</td>\n",
              "      <td>23</td>\n",
              "      <td>58</td>\n",
              "      <td>2018-04-09 23:58:00</td>\n",
              "    </tr>\n",
              "    <tr>\n",
              "      <th>4443</th>\n",
              "      <td>31 Bis Rue du Faubourg Montmartre</td>\n",
              "      <td>0</td>\n",
              "      <td>0</td>\n",
              "      <td>0</td>\n",
              "      <td>0</td>\n",
              "      <td>0</td>\n",
              "      <td>nonexistent</td>\n",
              "      <td>Paris</td>\n",
              "      <td>paris-faubourgmontmartre-31</td>\n",
              "      <td>STATION</td>\n",
              "      <td>48.8738324, 2.3425629</td>\n",
              "      <td>75009</td>\n",
              "      <td>Paris/Montmartre/31</td>\n",
              "      <td>operational</td>\n",
              "      <td>3</td>\n",
              "      <td>station</td>\n",
              "      <td>ok</td>\n",
              "      <td>nonexistent</td>\n",
              "      <td>2018</td>\n",
              "      <td>4</td>\n",
              "      <td>9</td>\n",
              "      <td>23</td>\n",
              "      <td>58</td>\n",
              "      <td>2018-04-09 23:58:00</td>\n",
              "    </tr>\n",
              "  </tbody>\n",
              "</table>\n",
              "<p>1349 rows × 24 columns</p>\n",
              "</div>"
            ],
            "text/plain": [
              "                                  Address  Cars  ...  minute            Datetime\n",
              "1046     112 Rue Monge BÃ¢timent Lieu-dit     0  ...       0 2018-04-01 00:00:00\n",
              "1107             19 place de la Madeleine     0  ...       2 2018-04-01 00:02:00\n",
              "2874            44 rue SÃ©bastien Mercier     0  ...       2 2018-04-01 00:02:00\n",
              "4453             2 rue Neuve Saint-Pierre     0  ...       4 2018-04-01 00:04:00\n",
              "2497               53 rue Henri PoincarÃ©     0  ...      32 2018-04-01 00:32:00\n",
              "...                                   ...   ...  ...     ...                 ...\n",
              "4956                   3 rue de Vaugirard     0  ...      32 2018-04-09 23:32:00\n",
              "3414                       37 rue Leblanc     0  ...      41 2018-04-09 23:41:00\n",
              "2164                  11 rue de vincennes     0  ...      41 2018-04-09 23:41:00\n",
              "3201  21 bis rue Notre-Dame des Victoires     0  ...      58 2018-04-09 23:58:00\n",
              "4443    31 Bis Rue du Faubourg Montmartre     0  ...      58 2018-04-09 23:58:00\n",
              "\n",
              "[1349 rows x 24 columns]"
            ]
          },
          "metadata": {
            "tags": []
          },
          "execution_count": 113
        }
      ]
    },
    {
      "cell_type": "markdown",
      "metadata": {
        "id": "DAxpPTy-Ymhd"
      },
      "source": [
        "There are many observations where cars could not be at a station at a particular time. "
      ]
    },
    {
      "cell_type": "code",
      "metadata": {
        "colab": {
          "base_uri": "https://localhost:8080/"
        },
        "id": "Ojjw1RsltzeI",
        "outputId": "d25eb1a3-59d0-4777-d5c4-614f5d675854"
      },
      "source": [
        "# Coming up with a new column for differences in bluecars\n",
        "\n",
        "def diff(data, var1):\n",
        "  autolib[var1] = data.sub(data.shift())\n",
        "  autolib[var1].iloc[0] = data.iloc[0]\n",
        "\n",
        "\n",
        "diff(autolib['Bluecar counter'], 'Bluediff')\n",
        "diff(autolib['Utilib counter'], 'Utilibdiff')\n",
        "diff(autolib['Utilib 1.4 counter'], 'Ulib4diff')\n",
        "\n"
      ],
      "execution_count": 114,
      "outputs": [
        {
          "output_type": "stream",
          "text": [
            "/usr/local/lib/python3.7/dist-packages/pandas/core/indexing.py:670: SettingWithCopyWarning: \n",
            "A value is trying to be set on a copy of a slice from a DataFrame\n",
            "\n",
            "See the caveats in the documentation: https://pandas.pydata.org/pandas-docs/stable/user_guide/indexing.html#returning-a-view-versus-a-copy\n",
            "  iloc._setitem_with_indexer(indexer, value)\n"
          ],
          "name": "stderr"
        }
      ]
    },
    {
      "cell_type": "code",
      "metadata": {
        "colab": {
          "base_uri": "https://localhost:8080/"
        },
        "id": "APzi092J6Qaf",
        "outputId": "0933ebee-5003-487e-8190-9b376f78a121"
      },
      "source": [
        "autolib['Ulib4diff'].corr(autolib['Utilibdiff'])"
      ],
      "execution_count": 115,
      "outputs": [
        {
          "output_type": "execute_result",
          "data": {
            "text/plain": [
              "0.07077865398863258"
            ]
          },
          "metadata": {
            "tags": []
          },
          "execution_count": 115
        }
      ]
    },
    {
      "cell_type": "code",
      "metadata": {
        "colab": {
          "base_uri": "https://localhost:8080/"
        },
        "id": "whWSQ6ZOie5E",
        "outputId": "064e6987-d54c-45b5-bbd7-d3b29275e262"
      },
      "source": [
        "autolib['Bluediff'].corr(autolib['Utilibdiff'])"
      ],
      "execution_count": 116,
      "outputs": [
        {
          "output_type": "execute_result",
          "data": {
            "text/plain": [
              "0.053996874319853456"
            ]
          },
          "metadata": {
            "tags": []
          },
          "execution_count": 116
        }
      ]
    },
    {
      "cell_type": "code",
      "metadata": {
        "colab": {
          "base_uri": "https://localhost:8080/"
        },
        "id": "JvIMMg-eij4m",
        "outputId": "e15866fa-51d9-47b9-f40e-a7192786c0d4"
      },
      "source": [
        "autolib['Bluediff'].corr(autolib['Ulib4diff'])"
      ],
      "execution_count": 117,
      "outputs": [
        {
          "output_type": "execute_result",
          "data": {
            "text/plain": [
              "0.06751019725313402"
            ]
          },
          "metadata": {
            "tags": []
          },
          "execution_count": 117
        }
      ]
    },
    {
      "cell_type": "markdown",
      "metadata": {
        "id": "uI-GfD6Ri2XD"
      },
      "source": [
        "There is no correlation in the differences columns"
      ]
    },
    {
      "cell_type": "code",
      "metadata": {
        "id": "pw9G_BQX1Mtc"
      },
      "source": [
        "autolib.set_index('Datetime', inplace=True)"
      ],
      "execution_count": 118,
      "outputs": []
    },
    {
      "cell_type": "code",
      "metadata": {
        "colab": {
          "base_uri": "https://localhost:8080/",
          "height": 340
        },
        "id": "APU2_jPa4gB6",
        "outputId": "932472ac-168e-4e98-98df-a26a2ef867d7"
      },
      "source": [
        "# Plot showing number of cars at the station at the end of the day\n",
        "\n",
        "diff = autolib['Bluediff'].resample('D').sum()\n",
        "ulib= autolib['Utilibdiff'].resample('D').sum()\n",
        "ulib4= autolib['Ulib4diff'].resample('D').sum()\n",
        "\n",
        "# plt.title(f'Electric Cars at stations by days{}')\n",
        "# plt.ylabel(f'{} Counter')\n",
        "\n",
        "diff.plot()\n",
        "ulib.plot()\n",
        "ulib4.plot()\n",
        "\n",
        "plt.legend(['Bluecars', 'Utilibs', 'Utilib_1.4'])\n",
        "plt.ylabel('Diff', fontsize=12)\n",
        "plt.xlabel('Datetime', fontsize=12)\n",
        "plt.title('Line Graph showing differences at EOD for the electric cars', fontsize= 14)\n",
        "plt.show()\n",
        "\n",
        "plt.savefig('Diff.jpg')"
      ],
      "execution_count": 119,
      "outputs": [
        {
          "output_type": "display_data",
          "data": {
            "image/png": "[encoded data removed]",
            "text/plain": [
              "<Figure size 432x288 with 1 Axes>"
            ]
          },
          "metadata": {
            "tags": []
          }
        },
        {
          "output_type": "display_data",
          "data": {
            "text/plain": [
              "<Figure size 432x288 with 0 Axes>"
            ]
          },
          "metadata": {
            "tags": []
          }
        }
      ]
    },
    {
      "cell_type": "code",
      "metadata": {
        "id": "evc95zPe523k"
      },
      "source": [
        "# Converting dates and times into one column\n",
        "\n",
        "autolib['dates']= pd.to_datetime(autolib[['year', 'month','day', 'hour', 'minute']])"
      ],
      "execution_count": 120,
      "outputs": []
    },
    {
      "cell_type": "code",
      "metadata": {
        "id": "dD6ohjtR8cxh"
      },
      "source": [
        "autolib['DayOfWeek'] = autolib['dates'].dt.day_name()"
      ],
      "execution_count": 121,
      "outputs": []
    },
    {
      "cell_type": "code",
      "metadata": {
        "colab": {
          "base_uri": "https://localhost:8080/",
          "height": 281
        },
        "id": "BAJ3fxLZ9ib0",
        "outputId": "23779ca5-80ec-49f0-9075-0b40288824f0"
      },
      "source": [
        "day= autolib['day'] == 5\n",
        "autolib[day ].head(2)"
      ],
      "execution_count": 122,
      "outputs": [
        {
          "output_type": "execute_result",
          "data": {
            "text/html": [
              "<div>\n",
              "<style scoped>\n",
              "    .dataframe tbody tr th:only-of-type {\n",
              "        vertical-align: middle;\n",
              "    }\n",
              "\n",
              "    .dataframe tbody tr th {\n",
              "        vertical-align: top;\n",
              "    }\n",
              "\n",
              "    .dataframe thead th {\n",
              "        text-align: right;\n",
              "    }\n",
              "</style>\n",
              "<table border=\"1\" class=\"dataframe\">\n",
              "  <thead>\n",
              "    <tr style=\"text-align: right;\">\n",
              "      <th></th>\n",
              "      <th>Address</th>\n",
              "      <th>Cars</th>\n",
              "      <th>Bluecar counter</th>\n",
              "      <th>Utilib counter</th>\n",
              "      <th>Utilib 1.4 counter</th>\n",
              "      <th>Charge Slots</th>\n",
              "      <th>Charging Status</th>\n",
              "      <th>City</th>\n",
              "      <th>ID</th>\n",
              "      <th>Kind</th>\n",
              "      <th>Geo point</th>\n",
              "      <th>Postal code</th>\n",
              "      <th>Public name</th>\n",
              "      <th>Rental status</th>\n",
              "      <th>Slots</th>\n",
              "      <th>Station type</th>\n",
              "      <th>Status</th>\n",
              "      <th>Subscription status</th>\n",
              "      <th>year</th>\n",
              "      <th>month</th>\n",
              "      <th>day</th>\n",
              "      <th>hour</th>\n",
              "      <th>minute</th>\n",
              "      <th>Bluediff</th>\n",
              "      <th>Utilibdiff</th>\n",
              "      <th>Ulib4diff</th>\n",
              "      <th>dates</th>\n",
              "      <th>DayOfWeek</th>\n",
              "    </tr>\n",
              "    <tr>\n",
              "      <th>Datetime</th>\n",
              "      <th></th>\n",
              "      <th></th>\n",
              "      <th></th>\n",
              "      <th></th>\n",
              "      <th></th>\n",
              "      <th></th>\n",
              "      <th></th>\n",
              "      <th></th>\n",
              "      <th></th>\n",
              "      <th></th>\n",
              "      <th></th>\n",
              "      <th></th>\n",
              "      <th></th>\n",
              "      <th></th>\n",
              "      <th></th>\n",
              "      <th></th>\n",
              "      <th></th>\n",
              "      <th></th>\n",
              "      <th></th>\n",
              "      <th></th>\n",
              "      <th></th>\n",
              "      <th></th>\n",
              "      <th></th>\n",
              "      <th></th>\n",
              "      <th></th>\n",
              "      <th></th>\n",
              "      <th></th>\n",
              "      <th></th>\n",
              "    </tr>\n",
              "  </thead>\n",
              "  <tbody>\n",
              "    <tr>\n",
              "      <th>2018-04-05 00:02:00</th>\n",
              "      <td>54 rue HÃ©ricart</td>\n",
              "      <td>3</td>\n",
              "      <td>3</td>\n",
              "      <td>0</td>\n",
              "      <td>0</td>\n",
              "      <td>0</td>\n",
              "      <td>nonexistent</td>\n",
              "      <td>Paris</td>\n",
              "      <td>paris-hericart-54</td>\n",
              "      <td>STATION</td>\n",
              "      <td>48.8490157, 2.2874011</td>\n",
              "      <td>75015</td>\n",
              "      <td>Paris/HÃ©ricart/54</td>\n",
              "      <td>operational</td>\n",
              "      <td>1</td>\n",
              "      <td>station</td>\n",
              "      <td>ok</td>\n",
              "      <td>nonexistent</td>\n",
              "      <td>2018</td>\n",
              "      <td>4</td>\n",
              "      <td>5</td>\n",
              "      <td>0</td>\n",
              "      <td>2</td>\n",
              "      <td>-1.0</td>\n",
              "      <td>0.0</td>\n",
              "      <td>-1.0</td>\n",
              "      <td>2018-04-05 00:02:00</td>\n",
              "      <td>Thursday</td>\n",
              "    </tr>\n",
              "    <tr>\n",
              "      <th>2018-04-05 00:06:00</th>\n",
              "      <td>40 Avenue Victor Hugo</td>\n",
              "      <td>3</td>\n",
              "      <td>3</td>\n",
              "      <td>0</td>\n",
              "      <td>0</td>\n",
              "      <td>0</td>\n",
              "      <td>nonexistent</td>\n",
              "      <td>Clamart</td>\n",
              "      <td>clamart-victorhugo-40</td>\n",
              "      <td>STATION</td>\n",
              "      <td>48.804098, 2.2673976</td>\n",
              "      <td>92140</td>\n",
              "      <td>Clamart/Victor Hugo/40</td>\n",
              "      <td>operational</td>\n",
              "      <td>2</td>\n",
              "      <td>station</td>\n",
              "      <td>ok</td>\n",
              "      <td>nonexistent</td>\n",
              "      <td>2018</td>\n",
              "      <td>4</td>\n",
              "      <td>5</td>\n",
              "      <td>0</td>\n",
              "      <td>6</td>\n",
              "      <td>0.0</td>\n",
              "      <td>0.0</td>\n",
              "      <td>0.0</td>\n",
              "      <td>2018-04-05 00:06:00</td>\n",
              "      <td>Thursday</td>\n",
              "    </tr>\n",
              "  </tbody>\n",
              "</table>\n",
              "</div>"
            ],
            "text/plain": [
              "                                   Address  Cars  ...               dates  DayOfWeek\n",
              "Datetime                                          ...                               \n",
              "2018-04-05 00:02:00       54 rue HÃ©ricart     3  ... 2018-04-05 00:02:00   Thursday\n",
              "2018-04-05 00:06:00  40 Avenue Victor Hugo     3  ... 2018-04-05 00:06:00   Thursday\n",
              "\n",
              "[2 rows x 28 columns]"
            ]
          },
          "metadata": {
            "tags": []
          },
          "execution_count": 122
        }
      ]
    },
    {
      "cell_type": "code",
      "metadata": {
        "colab": {
          "base_uri": "https://localhost:8080/",
          "height": 264
        },
        "id": "Gr_K9KR_j_Jo",
        "outputId": "a5b9c813-ed27-4465-9eae-b6782b1a443e"
      },
      "source": [
        "ah= (autolib['day']== 3)\n",
        "autolib[ah].head(2)"
      ],
      "execution_count": 123,
      "outputs": [
        {
          "output_type": "execute_result",
          "data": {
            "text/html": [
              "<div>\n",
              "<style scoped>\n",
              "    .dataframe tbody tr th:only-of-type {\n",
              "        vertical-align: middle;\n",
              "    }\n",
              "\n",
              "    .dataframe tbody tr th {\n",
              "        vertical-align: top;\n",
              "    }\n",
              "\n",
              "    .dataframe thead th {\n",
              "        text-align: right;\n",
              "    }\n",
              "</style>\n",
              "<table border=\"1\" class=\"dataframe\">\n",
              "  <thead>\n",
              "    <tr style=\"text-align: right;\">\n",
              "      <th></th>\n",
              "      <th>Address</th>\n",
              "      <th>Cars</th>\n",
              "      <th>Bluecar counter</th>\n",
              "      <th>Utilib counter</th>\n",
              "      <th>Utilib 1.4 counter</th>\n",
              "      <th>Charge Slots</th>\n",
              "      <th>Charging Status</th>\n",
              "      <th>City</th>\n",
              "      <th>ID</th>\n",
              "      <th>Kind</th>\n",
              "      <th>Geo point</th>\n",
              "      <th>Postal code</th>\n",
              "      <th>Public name</th>\n",
              "      <th>Rental status</th>\n",
              "      <th>Slots</th>\n",
              "      <th>Station type</th>\n",
              "      <th>Status</th>\n",
              "      <th>Subscription status</th>\n",
              "      <th>year</th>\n",
              "      <th>month</th>\n",
              "      <th>day</th>\n",
              "      <th>hour</th>\n",
              "      <th>minute</th>\n",
              "      <th>Bluediff</th>\n",
              "      <th>Utilibdiff</th>\n",
              "      <th>Ulib4diff</th>\n",
              "      <th>dates</th>\n",
              "      <th>DayOfWeek</th>\n",
              "    </tr>\n",
              "    <tr>\n",
              "      <th>Datetime</th>\n",
              "      <th></th>\n",
              "      <th></th>\n",
              "      <th></th>\n",
              "      <th></th>\n",
              "      <th></th>\n",
              "      <th></th>\n",
              "      <th></th>\n",
              "      <th></th>\n",
              "      <th></th>\n",
              "      <th></th>\n",
              "      <th></th>\n",
              "      <th></th>\n",
              "      <th></th>\n",
              "      <th></th>\n",
              "      <th></th>\n",
              "      <th></th>\n",
              "      <th></th>\n",
              "      <th></th>\n",
              "      <th></th>\n",
              "      <th></th>\n",
              "      <th></th>\n",
              "      <th></th>\n",
              "      <th></th>\n",
              "      <th></th>\n",
              "      <th></th>\n",
              "      <th></th>\n",
              "      <th></th>\n",
              "      <th></th>\n",
              "    </tr>\n",
              "  </thead>\n",
              "  <tbody>\n",
              "    <tr>\n",
              "      <th>2018-04-03 00:02:00</th>\n",
              "      <td>6 Boulevard Haussmann</td>\n",
              "      <td>1</td>\n",
              "      <td>1</td>\n",
              "      <td>0</td>\n",
              "      <td>0</td>\n",
              "      <td>0</td>\n",
              "      <td>operational</td>\n",
              "      <td>Paris</td>\n",
              "      <td>paris-haussmann-6</td>\n",
              "      <td>STATION</td>\n",
              "      <td>48.8723178, 2.3387762</td>\n",
              "      <td>75009</td>\n",
              "      <td>Paris/Haussmann/6</td>\n",
              "      <td>operational</td>\n",
              "      <td>3</td>\n",
              "      <td>station</td>\n",
              "      <td>ok</td>\n",
              "      <td>nonexistent</td>\n",
              "      <td>2018</td>\n",
              "      <td>4</td>\n",
              "      <td>3</td>\n",
              "      <td>0</td>\n",
              "      <td>2</td>\n",
              "      <td>-4.0</td>\n",
              "      <td>0.0</td>\n",
              "      <td>0.0</td>\n",
              "      <td>2018-04-03 00:02:00</td>\n",
              "      <td>Tuesday</td>\n",
              "    </tr>\n",
              "    <tr>\n",
              "      <th>2018-04-03 00:05:00</th>\n",
              "      <td>1 Rue Dante</td>\n",
              "      <td>0</td>\n",
              "      <td>0</td>\n",
              "      <td>0</td>\n",
              "      <td>0</td>\n",
              "      <td>0</td>\n",
              "      <td>nonexistent</td>\n",
              "      <td>Paris</td>\n",
              "      <td>paris-dante-1</td>\n",
              "      <td>STATION</td>\n",
              "      <td>48.8513879, 2.3472476</td>\n",
              "      <td>75005</td>\n",
              "      <td>Paris/Dante/1</td>\n",
              "      <td>operational</td>\n",
              "      <td>4</td>\n",
              "      <td>station</td>\n",
              "      <td>ok</td>\n",
              "      <td>nonexistent</td>\n",
              "      <td>2018</td>\n",
              "      <td>4</td>\n",
              "      <td>3</td>\n",
              "      <td>0</td>\n",
              "      <td>5</td>\n",
              "      <td>-1.0</td>\n",
              "      <td>0.0</td>\n",
              "      <td>0.0</td>\n",
              "      <td>2018-04-03 00:05:00</td>\n",
              "      <td>Tuesday</td>\n",
              "    </tr>\n",
              "  </tbody>\n",
              "</table>\n",
              "</div>"
            ],
            "text/plain": [
              "                                   Address  Cars  ...               dates  DayOfWeek\n",
              "Datetime                                          ...                               \n",
              "2018-04-03 00:02:00  6 Boulevard Haussmann     1  ... 2018-04-03 00:02:00    Tuesday\n",
              "2018-04-03 00:05:00            1 Rue Dante     0  ... 2018-04-03 00:05:00    Tuesday\n",
              "\n",
              "[2 rows x 28 columns]"
            ]
          },
          "metadata": {
            "tags": []
          },
          "execution_count": 123
        }
      ]
    },
    {
      "cell_type": "code",
      "metadata": {
        "colab": {
          "base_uri": "https://localhost:8080/",
          "height": 281
        },
        "id": "PTEmInkKq53w",
        "outputId": "b66716de-f2dd-4f9f-e340-4b7d6d6dd537"
      },
      "source": [
        "eh= autolib['day'] == 4\n",
        "autolib[eh].head(2)"
      ],
      "execution_count": 124,
      "outputs": [
        {
          "output_type": "execute_result",
          "data": {
            "text/html": [
              "<div>\n",
              "<style scoped>\n",
              "    .dataframe tbody tr th:only-of-type {\n",
              "        vertical-align: middle;\n",
              "    }\n",
              "\n",
              "    .dataframe tbody tr th {\n",
              "        vertical-align: top;\n",
              "    }\n",
              "\n",
              "    .dataframe thead th {\n",
              "        text-align: right;\n",
              "    }\n",
              "</style>\n",
              "<table border=\"1\" class=\"dataframe\">\n",
              "  <thead>\n",
              "    <tr style=\"text-align: right;\">\n",
              "      <th></th>\n",
              "      <th>Address</th>\n",
              "      <th>Cars</th>\n",
              "      <th>Bluecar counter</th>\n",
              "      <th>Utilib counter</th>\n",
              "      <th>Utilib 1.4 counter</th>\n",
              "      <th>Charge Slots</th>\n",
              "      <th>Charging Status</th>\n",
              "      <th>City</th>\n",
              "      <th>ID</th>\n",
              "      <th>Kind</th>\n",
              "      <th>Geo point</th>\n",
              "      <th>Postal code</th>\n",
              "      <th>Public name</th>\n",
              "      <th>Rental status</th>\n",
              "      <th>Slots</th>\n",
              "      <th>Station type</th>\n",
              "      <th>Status</th>\n",
              "      <th>Subscription status</th>\n",
              "      <th>year</th>\n",
              "      <th>month</th>\n",
              "      <th>day</th>\n",
              "      <th>hour</th>\n",
              "      <th>minute</th>\n",
              "      <th>Bluediff</th>\n",
              "      <th>Utilibdiff</th>\n",
              "      <th>Ulib4diff</th>\n",
              "      <th>dates</th>\n",
              "      <th>DayOfWeek</th>\n",
              "    </tr>\n",
              "    <tr>\n",
              "      <th>Datetime</th>\n",
              "      <th></th>\n",
              "      <th></th>\n",
              "      <th></th>\n",
              "      <th></th>\n",
              "      <th></th>\n",
              "      <th></th>\n",
              "      <th></th>\n",
              "      <th></th>\n",
              "      <th></th>\n",
              "      <th></th>\n",
              "      <th></th>\n",
              "      <th></th>\n",
              "      <th></th>\n",
              "      <th></th>\n",
              "      <th></th>\n",
              "      <th></th>\n",
              "      <th></th>\n",
              "      <th></th>\n",
              "      <th></th>\n",
              "      <th></th>\n",
              "      <th></th>\n",
              "      <th></th>\n",
              "      <th></th>\n",
              "      <th></th>\n",
              "      <th></th>\n",
              "      <th></th>\n",
              "      <th></th>\n",
              "      <th></th>\n",
              "    </tr>\n",
              "  </thead>\n",
              "  <tbody>\n",
              "    <tr>\n",
              "      <th>2018-04-04 00:01:00</th>\n",
              "      <td>78 Avenue du Maine</td>\n",
              "      <td>0</td>\n",
              "      <td>0</td>\n",
              "      <td>0</td>\n",
              "      <td>0</td>\n",
              "      <td>2</td>\n",
              "      <td>operational</td>\n",
              "      <td>Paris</td>\n",
              "      <td>paris-maine-78</td>\n",
              "      <td>SPACE</td>\n",
              "      <td>48.8388247, 2.3221905</td>\n",
              "      <td>75014</td>\n",
              "      <td>Paris/Maine/78</td>\n",
              "      <td>operational</td>\n",
              "      <td>6</td>\n",
              "      <td>full_station</td>\n",
              "      <td>ok</td>\n",
              "      <td>operational</td>\n",
              "      <td>2018</td>\n",
              "      <td>4</td>\n",
              "      <td>4</td>\n",
              "      <td>0</td>\n",
              "      <td>1</td>\n",
              "      <td>-2.0</td>\n",
              "      <td>0.0</td>\n",
              "      <td>0.0</td>\n",
              "      <td>2018-04-04 00:01:00</td>\n",
              "      <td>Wednesday</td>\n",
              "    </tr>\n",
              "    <tr>\n",
              "      <th>2018-04-04 00:01:00</th>\n",
              "      <td>64 Rue de Fitzelin</td>\n",
              "      <td>2</td>\n",
              "      <td>2</td>\n",
              "      <td>0</td>\n",
              "      <td>1</td>\n",
              "      <td>0</td>\n",
              "      <td>nonexistent</td>\n",
              "      <td>Ãpinay-sur-Seine</td>\n",
              "      <td>epinaysurseine-fitzelin-64</td>\n",
              "      <td>STATION</td>\n",
              "      <td>48.960565, 2.3068329</td>\n",
              "      <td>93800</td>\n",
              "      <td>Ãpinay-sur-Seine/Fitzelin/64</td>\n",
              "      <td>operational</td>\n",
              "      <td>2</td>\n",
              "      <td>station</td>\n",
              "      <td>ok</td>\n",
              "      <td>nonexistent</td>\n",
              "      <td>2018</td>\n",
              "      <td>4</td>\n",
              "      <td>4</td>\n",
              "      <td>0</td>\n",
              "      <td>1</td>\n",
              "      <td>2.0</td>\n",
              "      <td>0.0</td>\n",
              "      <td>1.0</td>\n",
              "      <td>2018-04-04 00:01:00</td>\n",
              "      <td>Wednesday</td>\n",
              "    </tr>\n",
              "  </tbody>\n",
              "</table>\n",
              "</div>"
            ],
            "text/plain": [
              "                                Address  Cars  ...               dates  DayOfWeek\n",
              "Datetime                                       ...                               \n",
              "2018-04-04 00:01:00  78 Avenue du Maine     0  ... 2018-04-04 00:01:00  Wednesday\n",
              "2018-04-04 00:01:00  64 Rue de Fitzelin     2  ... 2018-04-04 00:01:00  Wednesday\n",
              "\n",
              "[2 rows x 28 columns]"
            ]
          },
          "metadata": {
            "tags": []
          },
          "execution_count": 124
        }
      ]
    },
    {
      "cell_type": "markdown",
      "metadata": {
        "id": "6ZiGneUc-Gri"
      },
      "source": [
        "Thursday is when most cars are at the station, translating to more people travelling at a particular time on Thursdays. Tuesday has this trend for the bluecars. "
      ]
    },
    {
      "cell_type": "markdown",
      "metadata": {
        "id": "55mhakZe-cOF"
      },
      "source": [
        "### **Hypothesis Testing**"
      ]
    },
    {
      "cell_type": "markdown",
      "metadata": {
        "id": "UMgZL0WVf8FM"
      },
      "source": [
        "Null Hypothesis: The number of bluecars in Nanterre are not less than those coming from Issy-les-Moulineaux \n",
        "\n",
        "Alternative hypothesis: The number of bluecars in Nanterre are less than those coming from Issy-les-Moulineaux"
      ]
    },
    {
      "cell_type": "code",
      "metadata": {
        "colab": {
          "base_uri": "https://localhost:8080/"
        },
        "id": "WV8gU1dvEFVC",
        "outputId": "1c259b55-e4c7-4629-ac0d-be110df660af"
      },
      "source": [
        "# Sampling weekdays\n",
        "weekdays = ['Monday', 'Tuesday', 'Wednesday', 'Thursday', 'Friday'] \n",
        "    \n",
        "# selecting rows based on condition \n",
        "autolibweekday = autolib[autolib['DayOfWeek'].isin(weekdays)] \n",
        "    \n",
        "autolibweekday.shape"
      ],
      "execution_count": 125,
      "outputs": [
        {
          "output_type": "execute_result",
          "data": {
            "text/plain": [
              "(3408, 28)"
            ]
          },
          "metadata": {
            "tags": []
          },
          "execution_count": 125
        }
      ]
    },
    {
      "cell_type": "code",
      "metadata": {
        "id": "yk_S8BFFoWmC"
      },
      "source": [
        "# Creating different samples from the population\n",
        "\n",
        "nan_autolib = autolibweekday[autolibweekday.City =='Nanterre']\n",
        "issy_autolib = autolibweekday[autolibweekday.City =='Issy-les-Moulineaux']"
      ],
      "execution_count": 126,
      "outputs": []
    },
    {
      "cell_type": "code",
      "metadata": {
        "colab": {
          "base_uri": "https://localhost:8080/"
        },
        "id": "JLb0AgaA2SUn",
        "outputId": "018bfc13-dd7a-4cfc-946a-90f6e6994825"
      },
      "source": [
        "#check the shape of both the samples\n",
        "\n",
        "print(nan_autolib.shape,issy_autolib.shape)"
      ],
      "execution_count": 127,
      "outputs": [
        {
          "output_type": "stream",
          "text": [
            "(79, 28) (71, 28)\n"
          ],
          "name": "stdout"
        }
      ]
    },
    {
      "cell_type": "code",
      "metadata": {
        "colab": {
          "base_uri": "https://localhost:8080/"
        },
        "id": "jJIEUOxE2jM0",
        "outputId": "cc14336b-36ab-411d-c649-ee6c8e4b72f3"
      },
      "source": [
        "# making equal records in the samples\n",
        "nan_autolib = nan_autolib.sample(71)\n",
        "print(nan_autolib.shape,issy_autolib.shape)"
      ],
      "execution_count": 128,
      "outputs": [
        {
          "output_type": "stream",
          "text": [
            "(71, 28) (71, 28)\n"
          ],
          "name": "stdout"
        }
      ]
    },
    {
      "cell_type": "code",
      "metadata": {
        "id": "iwBnY7QZ3tpi"
      },
      "source": [
        "from scipy import stats"
      ],
      "execution_count": 129,
      "outputs": []
    },
    {
      "cell_type": "code",
      "metadata": {
        "colab": {
          "base_uri": "https://localhost:8080/"
        },
        "id": "VPDv1vNW3M_J",
        "outputId": "8fce7a71-705b-4adf-dbb7-9f7738a202da"
      },
      "source": [
        "# Checking variances\n",
        "\n",
        "alpha = 0.05\n",
        "Stats, Pvalue = stats.levene(nan_autolib['Bluecar counter'], nan_autolib['Bluecar counter'])\n",
        "print(f' Test statistics : {Stats} \\n Alpha : {alpha} \\n P-value : {Pvalue}')\n",
        "if Pvalue > alpha:\n",
        "  print(' Variances are same accept null hypothesis ')\n",
        "else:\n",
        "  print(' Variances are not same reject not null hypothesis ')"
      ],
      "execution_count": 130,
      "outputs": [
        {
          "output_type": "stream",
          "text": [
            " Test statistics : 0.0 \n",
            " Alpha : 0.05 \n",
            " P-value : 1.0\n",
            " Variances are same accept null hypothesis \n"
          ],
          "name": "stdout"
        }
      ]
    },
    {
      "cell_type": "code",
      "metadata": {
        "id": "bCEzmz9u56ot"
      },
      "source": [
        "from sklearn.preprocessing import scale"
      ],
      "execution_count": 131,
      "outputs": []
    },
    {
      "cell_type": "code",
      "metadata": {
        "colab": {
          "base_uri": "https://localhost:8080/",
          "height": 374
        },
        "id": "CoQn3Sot5lg8",
        "outputId": "99a6cdf9-4456-49ec-b727-dd1da9bfec3c"
      },
      "source": [
        "# normality test by use of a histogram\n",
        "\n",
        "diff = scale((np.array(nan_autolib['Bluecar counter']) - np.array(issy_autolib['Bluecar counter'])))\n",
        "plt.figure(figsize=(12,6))\n",
        "plt.hist(diff)\n",
        "plt.show()"
      ],
      "execution_count": 132,
      "outputs": [
        {
          "output_type": "display_data",
          "data": {
            "image/png": "[encoded data removed]",
            "text/plain": [
              "<Figure size 864x432 with 1 Axes>"
            ]
          },
          "metadata": {
            "tags": []
          }
        }
      ]
    },
    {
      "cell_type": "code",
      "metadata": {
        "colab": {
          "base_uri": "https://localhost:8080/"
        },
        "id": "aLYPnRiB6OTH",
        "outputId": "f1a54b6c-9191-4904-9398-334a7aa87ea8"
      },
      "source": [
        "# Shapiro Wilk's Test of normality \n",
        "\n",
        "alpha = 0.05\n",
        "statistic,p_value = stats.shapiro(diff)\n",
        "if p_value > alpha:\n",
        "  print(f'Accept Null Hypothesis p-value : {p_value}')\n",
        "else:\n",
        "  print(f'Reject Null Hypothesis p-value : {p_value}')"
      ],
      "execution_count": 133,
      "outputs": [
        {
          "output_type": "stream",
          "text": [
            "Reject Null Hypothesis p-value : 0.039798323065042496\n"
          ],
          "name": "stdout"
        }
      ]
    },
    {
      "cell_type": "code",
      "metadata": {
        "colab": {
          "base_uri": "https://localhost:8080/"
        },
        "id": "5XcN3JZeHnov",
        "outputId": "05b06a78-b4bc-4c63-fddf-cec89a33826e"
      },
      "source": [
        "# Two Sample Independent T-Test\n",
        "\n",
        "stats.ttest_ind(nan_autolib['Bluecar counter'], issy_autolib['Bluecar counter'])"
      ],
      "execution_count": 134,
      "outputs": [
        {
          "output_type": "execute_result",
          "data": {
            "text/plain": [
              "Ttest_indResult(statistic=1.8022013584813215, pvalue=0.0736651769193336)"
            ]
          },
          "metadata": {
            "tags": []
          },
          "execution_count": 134
        }
      ]
    },
    {
      "cell_type": "markdown",
      "metadata": {
        "id": "R18E-IBTKfTy"
      },
      "source": [
        "The p-value is 6% which is more than 5% hence we reject the null hypothesis.\n",
        "\n",
        "The t-statistic is positive which shows that Bluecars coming from Nanterre are more than those coming from Issy-les-Moulineaux"
      ]
    },
    {
      "cell_type": "code",
      "metadata": {
        "id": "A0s_YULG6dK8"
      },
      "source": [
        "import scipy.stats"
      ],
      "execution_count": 141,
      "outputs": []
    },
    {
      "cell_type": "code",
      "metadata": {
        "colab": {
          "base_uri": "https://localhost:8080/"
        },
        "id": "vGJGJW5i6RmD",
        "outputId": "4ff957c4-1557-405b-c603-c1e0e83d0f1d"
      },
      "source": [
        "def mean_confidence_interval(data, confidence=0.95):\n",
        "    a = 1.0 * np.array(data)\n",
        "    n = len(a)\n",
        "    m, se = np.mean(a), scipy.stats.sem(a)\n",
        "    h = se * scipy.stats.t.ppf((1 + confidence) / 2., n-1)\n",
        "    return m, m-h, m+h\n",
        "\n",
        "mean_confidence_interval(diff)"
      ],
      "execution_count": 142,
      "outputs": [
        {
          "output_type": "execute_result",
          "data": {
            "text/plain": [
              "(1.0945860806163514e-17, -0.2383808294979589, 0.2383808294979589)"
            ]
          },
          "metadata": {
            "tags": []
          },
          "execution_count": 142
        }
      ]
    },
    {
      "cell_type": "code",
      "metadata": {
        "id": "NvONGPsL7fHK"
      },
      "source": [
        "# Confidence interval plot\n",
        "x= nan_autolib['Bluecar counter']\n",
        "y = issy_autolib['Bluecar counter']\n",
        "#some confidence interval\n",
        "ci = 1.96 * np.std(y)/np.mean(y)\n",
        "\n",
        "fig, ax = plt.subplots()\n",
        "ax.plot(x,y)\n",
        "ax.fill_between(x, (y-ci), (y+ci), color='b', alpha=.1)"
      ],
      "execution_count": null,
      "outputs": []
    },
    {
      "cell_type": "code",
      "metadata": {
        "id": "U_90wKVZ7ena"
      },
      "source": [
        ""
      ],
      "execution_count": null,
      "outputs": []
    },
    {
      "cell_type": "code",
      "metadata": {
        "id": "VsmpqXme4q7o"
      },
      "source": [
        "from numpy import std, mean, sqrt"
      ],
      "execution_count": 136,
      "outputs": []
    },
    {
      "cell_type": "code",
      "metadata": {
        "colab": {
          "base_uri": "https://localhost:8080/"
        },
        "id": "4WrvV4fVJzgX",
        "outputId": "1962c92a-e3f5-48c9-acf5-f258ed871e4e"
      },
      "source": [
        "# Cohen's test of effect size \n",
        "def cohen_d(x,y):\n",
        "    nx = len(x)\n",
        "    ny = len(y)\n",
        "    dof = nx + ny - 2\n",
        "    return (mean(x) - mean(y)) / sqrt(((nx-1)*std(x, ddof=1) ** 2 + (ny-1)*std(y, ddof=1) ** 2) / dof)\n",
        "\n",
        "cohen_d(nan_autolib['Bluecar counter'], issy_autolib['Bluecar counter'])"
      ],
      "execution_count": 138,
      "outputs": [
        {
          "output_type": "execute_result",
          "data": {
            "text/plain": [
              "0.3024747567868987"
            ]
          },
          "metadata": {
            "tags": []
          },
          "execution_count": 138
        }
      ]
    },
    {
      "cell_type": "markdown",
      "metadata": {
        "id": "98ZB2K5r5zvR"
      },
      "source": [
        "The effect size is considerably small"
      ]
    },
    {
      "cell_type": "code",
      "metadata": {
        "colab": {
          "base_uri": "https://localhost:8080/"
        },
        "id": "4j-AyX9L5BYT",
        "outputId": "fe9a9b77-d0a0-4e77-d374-2187faca67a1"
      },
      "source": [
        "# Test Sensitivity\n",
        "from scipy.stats import t\n",
        "# define probability\n",
        "p = 0.95\n",
        "# retrieve value <= probability\n",
        "value = t.ppf(p, diff)\n",
        "print(value)\n",
        "# confirm with cdf\n",
        "p = t.cdf(value, diff)\n",
        "print(p)"
      ],
      "execution_count": 145,
      "outputs": [
        {
          "output_type": "stream",
          "text": [
            "[4.93696266e+00 4.13631675e+06 9.05802135e+00            nan\n",
            "            nan            nan            nan 4.93696266e+00\n",
            "            nan            nan            nan 4.75690572e+01\n",
            "            nan 4.75690572e+01            nan 4.13631675e+06\n",
            " 4.75690572e+01            nan 4.93696266e+00 4.75690572e+01\n",
            " 4.75690572e+01 4.93696266e+00            nan            nan\n",
            "            nan 9.05802135e+00 4.13631675e+06            nan\n",
            " 4.13631675e+06            nan            nan            nan\n",
            " 4.13631675e+06 4.75690572e+01            nan 3.65573029e+00\n",
            "            nan 3.06736353e+00 4.93696266e+00 4.93696266e+00\n",
            " 4.93696266e+00 3.06736353e+00 9.05802135e+00            nan\n",
            "            nan 4.13631675e+06 4.13631675e+06            nan\n",
            "            nan 4.75690572e+01 3.06736353e+00            nan\n",
            "            nan            nan            nan            nan\n",
            "            nan            nan 4.75690572e+01 4.13631675e+06\n",
            " 9.05802135e+00 3.65573029e+00 3.65573029e+00 4.13631675e+06\n",
            "            nan            nan            nan            nan\n",
            " 4.93696266e+00 3.06736353e+00            nan]\n",
            "[0.95 0.95 0.95  nan  nan  nan  nan 0.95  nan  nan  nan 0.95  nan 0.95\n",
            "  nan 0.95 0.95  nan 0.95 0.95 0.95 0.95  nan  nan  nan 0.95 0.95  nan\n",
            " 0.95  nan  nan  nan 0.95 0.95  nan 0.95  nan 0.95 0.95 0.95 0.95 0.95\n",
            " 0.95  nan  nan 0.95 0.95  nan  nan 0.95 0.95  nan  nan  nan  nan  nan\n",
            "  nan  nan 0.95 0.95 0.95 0.95 0.95 0.95  nan  nan  nan  nan 0.95 0.95\n",
            "  nan]\n"
          ],
          "name": "stdout"
        }
      ]
    },
    {
      "cell_type": "code",
      "metadata": {
        "id": "mHpHizR3_GUk"
      },
      "source": [
        ""
      ],
      "execution_count": null,
      "outputs": []
    }
  ]
}